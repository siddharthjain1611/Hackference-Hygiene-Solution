{
 "cells": [
  {
   "cell_type": "markdown",
   "metadata": {
    "_uuid": "dc5bce61e6da7d1807c307d0c39881735eb1d71a"
   },
   "source": []
  },
  {
   "cell_type": "markdown",
   "metadata": {
    "_uuid": "ad9ceb8e588727802de8b30c5e234c01c20a6945"
   },
   "source": []
  },
  {
   "cell_type": "code",
   "execution_count": 6,
   "metadata": {
    "_cell_guid": "b1076dfc-b9ad-4769-8c92-a6c4dae69d19",
    "_uuid": "8f2839f25d086af736a60e9eeb907d3b93b6e0e5"
   },
   "outputs": [],
   "source": [
    "# This Python 3 environment comes with many helpful analytics libraries installed\n",
    "# It is defined by the kaggle/python docker image: https://github.com/kaggle/docker-python\n",
    "# For example, here's several helpful packages to load in \n",
    "\n",
    "import numpy as np # linear algebra\n",
    "import pandas as pd # data processing, CSV file I/O (e.g. pd.read_csv)\n",
    "import matplotlib.pyplot as plt\n",
    "import seaborn as sns\n",
    "import plotly.plotly as py\n",
    "%matplotlib inline\n",
    "plt.rcParams['figure.figsize'] = (10, 7)\n",
    "\n",
    "# Warnings\n",
    "import warnings\n",
    "warnings.filterwarnings('ignore')\n",
    "\n",
    "# Input data files are available in the \"../input/\" directory.\n",
    "# For example, running this (by clicking run or pressing Shift+Enter) will list the files in the input directory"
   ]
  },
  {
   "cell_type": "code",
   "execution_count": 4,
   "metadata": {
    "_cell_guid": "79c7e3d0-c299-4dcb-8224-4455121ee9b0",
    "_uuid": "d629ff2d2480ee46fbb7e2d37f6b5fab8052498a"
   },
   "outputs": [
    {
     "data": {
      "text/html": [
       "<div>\n",
       "<style scoped>\n",
       "    .dataframe tbody tr th:only-of-type {\n",
       "        vertical-align: middle;\n",
       "    }\n",
       "\n",
       "    .dataframe tbody tr th {\n",
       "        vertical-align: top;\n",
       "    }\n",
       "\n",
       "    .dataframe thead th {\n",
       "        text-align: right;\n",
       "    }\n",
       "</style>\n",
       "<table border=\"1\" class=\"dataframe\">\n",
       "  <thead>\n",
       "    <tr style=\"text-align: right;\">\n",
       "      <th></th>\n",
       "      <th>stn_code</th>\n",
       "      <th>sampling_date</th>\n",
       "      <th>state</th>\n",
       "      <th>location</th>\n",
       "      <th>agency</th>\n",
       "      <th>type</th>\n",
       "      <th>so2</th>\n",
       "      <th>no2</th>\n",
       "      <th>rspm</th>\n",
       "      <th>spm</th>\n",
       "      <th>location_monitoring_station</th>\n",
       "      <th>pm2_5</th>\n",
       "      <th>date</th>\n",
       "    </tr>\n",
       "  </thead>\n",
       "  <tbody>\n",
       "    <tr>\n",
       "      <th>0</th>\n",
       "      <td>150</td>\n",
       "      <td>February - M021990</td>\n",
       "      <td>Andhra Pradesh</td>\n",
       "      <td>Hyderabad</td>\n",
       "      <td>NaN</td>\n",
       "      <td>Residential, Rural and other Areas</td>\n",
       "      <td>4.8</td>\n",
       "      <td>17.4</td>\n",
       "      <td>NaN</td>\n",
       "      <td>NaN</td>\n",
       "      <td>NaN</td>\n",
       "      <td>NaN</td>\n",
       "      <td>1990-02-01</td>\n",
       "    </tr>\n",
       "    <tr>\n",
       "      <th>1</th>\n",
       "      <td>151</td>\n",
       "      <td>February - M021990</td>\n",
       "      <td>Andhra Pradesh</td>\n",
       "      <td>Hyderabad</td>\n",
       "      <td>NaN</td>\n",
       "      <td>Industrial Area</td>\n",
       "      <td>3.1</td>\n",
       "      <td>7.0</td>\n",
       "      <td>NaN</td>\n",
       "      <td>NaN</td>\n",
       "      <td>NaN</td>\n",
       "      <td>NaN</td>\n",
       "      <td>1990-02-01</td>\n",
       "    </tr>\n",
       "    <tr>\n",
       "      <th>2</th>\n",
       "      <td>152</td>\n",
       "      <td>February - M021990</td>\n",
       "      <td>Andhra Pradesh</td>\n",
       "      <td>Hyderabad</td>\n",
       "      <td>NaN</td>\n",
       "      <td>Residential, Rural and other Areas</td>\n",
       "      <td>6.2</td>\n",
       "      <td>28.5</td>\n",
       "      <td>NaN</td>\n",
       "      <td>NaN</td>\n",
       "      <td>NaN</td>\n",
       "      <td>NaN</td>\n",
       "      <td>1990-02-01</td>\n",
       "    </tr>\n",
       "    <tr>\n",
       "      <th>3</th>\n",
       "      <td>150</td>\n",
       "      <td>March - M031990</td>\n",
       "      <td>Andhra Pradesh</td>\n",
       "      <td>Hyderabad</td>\n",
       "      <td>NaN</td>\n",
       "      <td>Residential, Rural and other Areas</td>\n",
       "      <td>6.3</td>\n",
       "      <td>14.7</td>\n",
       "      <td>NaN</td>\n",
       "      <td>NaN</td>\n",
       "      <td>NaN</td>\n",
       "      <td>NaN</td>\n",
       "      <td>1990-03-01</td>\n",
       "    </tr>\n",
       "    <tr>\n",
       "      <th>4</th>\n",
       "      <td>151</td>\n",
       "      <td>March - M031990</td>\n",
       "      <td>Andhra Pradesh</td>\n",
       "      <td>Hyderabad</td>\n",
       "      <td>NaN</td>\n",
       "      <td>Industrial Area</td>\n",
       "      <td>4.7</td>\n",
       "      <td>7.5</td>\n",
       "      <td>NaN</td>\n",
       "      <td>NaN</td>\n",
       "      <td>NaN</td>\n",
       "      <td>NaN</td>\n",
       "      <td>1990-03-01</td>\n",
       "    </tr>\n",
       "  </tbody>\n",
       "</table>\n",
       "</div>"
      ],
      "text/plain": [
       "  stn_code       sampling_date           state   location agency  \\\n",
       "0      150  February - M021990  Andhra Pradesh  Hyderabad    NaN   \n",
       "1      151  February - M021990  Andhra Pradesh  Hyderabad    NaN   \n",
       "2      152  February - M021990  Andhra Pradesh  Hyderabad    NaN   \n",
       "3      150     March - M031990  Andhra Pradesh  Hyderabad    NaN   \n",
       "4      151     March - M031990  Andhra Pradesh  Hyderabad    NaN   \n",
       "\n",
       "                                 type  so2   no2  rspm  spm  \\\n",
       "0  Residential, Rural and other Areas  4.8  17.4   NaN  NaN   \n",
       "1                     Industrial Area  3.1   7.0   NaN  NaN   \n",
       "2  Residential, Rural and other Areas  6.2  28.5   NaN  NaN   \n",
       "3  Residential, Rural and other Areas  6.3  14.7   NaN  NaN   \n",
       "4                     Industrial Area  4.7   7.5   NaN  NaN   \n",
       "\n",
       "  location_monitoring_station  pm2_5        date  \n",
       "0                         NaN    NaN  1990-02-01  \n",
       "1                         NaN    NaN  1990-02-01  \n",
       "2                         NaN    NaN  1990-02-01  \n",
       "3                         NaN    NaN  1990-03-01  \n",
       "4                         NaN    NaN  1990-03-01  "
      ]
     },
     "execution_count": 4,
     "metadata": {},
     "output_type": "execute_result"
    }
   ],
   "source": [
    "data=pd.read_csv(data.csv',encoding = \"ISO-8859-1\")\n",
    "data.head()"
   ]
  },
  {
   "cell_type": "code",
   "execution_count": null,
   "metadata": {
    "_uuid": "57c201d7537140c3374c000aacc4896258d620ff"
   },
   "outputs": [],
   "source": [
    "data.info()"
   ]
  },
  {
   "cell_type": "code",
   "execution_count": 7,
   "metadata": {
    "_uuid": "af3e392bf5541fe0510baa74ee7f93f4f58c9de1"
   },
   "outputs": [],
   "source": [
    "replacements = {\n",
    "   'state': {\n",
    "      r'Uttaranchal': 'Uttarakhand', \n",
    "   }\n",
    "}\n",
    "\n",
    "data.replace(replacements, regex=True, inplace=True)"
   ]
  },
  {
   "cell_type": "markdown",
   "metadata": {
    "_uuid": "ff54d9e2aef0a9c09be6be8bc3618eb40c0cd754"
   },
   "source": []
  },
  {
   "cell_type": "markdown",
   "metadata": {
    "_uuid": "ae7eb1a63213b1a5e2526b605cf66441c57d5def"
   },
   "source": [
    "##top 10"
   ]
  },
  {
   "cell_type": "code",
   "execution_count": 8,
   "metadata": {
    "_uuid": "8d8bf55eee0c20d56412c80e19036a7a5b9c2879",
    "scrolled": false
   },
   "outputs": [
    {
     "data": {
      "image/png": "[encoded data removed]",
      "text/plain": [
       "<Figure size 720x504 with 1 Axes>"
      ]
     },
     "metadata": {
      "needs_background": "light"
     },
     "output_type": "display_data"
    }
   ],
   "source": [
    "data[['so2','state']].groupby([\"state\"]).median().sort_values(by='so2',ascending=False).head(10).plot.bar(color='r')\n",
    "plt.show()"
   ]
  },
  {
   "cell_type": "markdown",
   "metadata": {
    "_uuid": "044aca3d2ffd33d82a8b1d366ee73a64ae2a6bdf"
   },
   "source": [
    "**BOTTOM 10**"
   ]
  },
  {
   "cell_type": "code",
   "execution_count": null,
   "metadata": {
    "_uuid": "7abc410f78b854a26907d7470a921baea351da1b"
   },
   "outputs": [],
   "source": [
    "data[['so2','state']].groupby([\"state\"]).median().sort_values(by='so2',ascending=False).tail(10).plot.bar(color='r')\n",
    "plt.show()"
   ]
  },
  {
   "cell_type": "markdown",
   "metadata": {
    "_uuid": "7f72770dbe7cdc8d1e97da512d1f0df021925dc9"
   },
   "source": []
  },
  {
   "cell_type": "markdown",
   "metadata": {
    "_uuid": "58da546d042168a02f8012d31e651e03a68c4153"
   },
   "source": []
  },
  {
   "cell_type": "markdown",
   "metadata": {
    "_uuid": "9906ea6b62de5aa4bea0896eeb64e0c1ef124121"
   },
   "source": []
  },
  {
   "cell_type": "markdown",
   "metadata": {
    "_uuid": "6b19bbe71fe9ac7c38620373a826b532a0fbc330"
   },
   "source": [
    "**TOP 10**"
   ]
  },
  {
   "cell_type": "code",
   "execution_count": 9,
   "metadata": {
    "_uuid": "d3d0803f8a0d3e3b3739f4eb67a6eb37bd94b276"
   },
   "outputs": [
    {
     "data": {
      "image/png": "[encoded data removed]",
      "text/plain": [
       "<Figure size 720x504 with 1 Axes>"
      ]
     },
     "metadata": {
      "needs_background": "light"
     },
     "output_type": "display_data"
    }
   ],
   "source": [
    "data[['no2','state']].groupby([\"state\"]).median().sort_values(by='no2',ascending=False).head(10).plot.bar(color='g')\n",
    "plt.show()"
   ]
  },
  {
   "cell_type": "markdown",
   "metadata": {
    "_uuid": "96df45ea407589f7ea945d5aa4a6f1741e4d94a0"
   },
   "source": [
    "**BOTTOM 10**"
   ]
  },
  {
   "cell_type": "code",
   "execution_count": null,
   "metadata": {
    "_uuid": "5086726cca517852660e68dacec6bb0bfbb8d23e"
   },
   "outputs": [],
   "source": [
    "data[['no2','state']].groupby([\"state\"]).median().sort_values(by='no2',ascending=False).tail(10).plot.bar(color='g')\n",
    "plt.show()"
   ]
  },
  {
   "cell_type": "markdown",
   "metadata": {
    "_uuid": "0a309842e5d6a19be886369939452e128570db27"
   },
   "source": []
  },
  {
   "cell_type": "markdown",
   "metadata": {
    "_uuid": "693b155eee2978107d684dd276ed61bf60ec575e"
   },
   "source": [
    "**TOP 10**"
   ]
  },
  {
   "cell_type": "code",
   "execution_count": null,
   "metadata": {
    "_uuid": "a52e38085bf9622d1fba6a1a06503b44d8904799"
   },
   "outputs": [],
   "source": [
    "data[['rspm','state']].groupby([\"state\"]).median().sort_values(by='rspm',ascending=False).head(10).plot.bar(color='b')\n",
    "plt.show()"
   ]
  },
  {
   "cell_type": "markdown",
   "metadata": {
    "_uuid": "67599c3121f9905a87363c18df19e52a6e2a0a26"
   },
   "source": [
    "**BOTTOM 10**"
   ]
  },
  {
   "cell_type": "code",
   "execution_count": null,
   "metadata": {
    "_uuid": "7ea7266557ec24f6e38a6fd948f55780eda3d987"
   },
   "outputs": [],
   "source": [
    "data[['rspm','state']].groupby([\"state\"]).median().sort_values(by='rspm',ascending=False).tail(10).plot.bar(color='b')\n",
    "plt.show()"
   ]
  },
  {
   "cell_type": "markdown",
   "metadata": {
    "_uuid": "e5c5d2fc62d8e39b98feabbac5f99896da885a53"
   },
   "source": []
  },
  {
   "cell_type": "markdown",
   "metadata": {
    "_uuid": "4303e2d12236f1f5956b032d680a14baa00487b6"
   },
   "source": [
    "**TOP 10**"
   ]
  },
  {
   "cell_type": "code",
   "execution_count": null,
   "metadata": {
    "_uuid": "83beeaf66eeba771b6ed489d3924a5046c906c51"
   },
   "outputs": [],
   "source": [
    "data[['spm','state']].groupby([\"state\"]).median().sort_values(by='spm',ascending=False).head(10).plot.bar(color='y')\n",
    "plt.show()"
   ]
  },
  {
   "cell_type": "markdown",
   "metadata": {
    "_uuid": "83f7d06ab4bf4fa0d93bfd4ca9dd7f40a1367464"
   },
   "source": [
    "**BOTTAM 10**"
   ]
  },
  {
   "cell_type": "code",
   "execution_count": null,
   "metadata": {
    "_uuid": "9e5f2d250caa53b64f9b97590d2580693c33e957"
   },
   "outputs": [],
   "source": [
    "data[['spm','state']].groupby([\"state\"]).median().sort_values(by='spm',ascending=False).tail(10).plot.bar(color='y')\n",
    "plt.show()"
   ]
  },
  {
   "cell_type": "code",
   "execution_count": null,
   "metadata": {
    "_uuid": "5e3b7e1e7746d276bf75f2e894ca537bced44a68"
   },
   "outputs": [],
   "source": [
    "#Exploring relationship between proportion of Sulphur dioxide & Nitrogen dioxide\n",
    "#sns.lmplot(x='so2',y='no2',data=data)\n",
    "sns.jointplot(x='so2', y='no2', data=data,kind='hex',color='k',xlim={0,100}, ylim={0,100})"
   ]
  },
  {
   "cell_type": "code",
   "execution_count": null,
   "metadata": {
    "_uuid": "777440e5ed283a85c5edd7e4f5fe7abc49a867c7"
   },
   "outputs": [],
   "source": [
    "data['date'] = pd.to_datetime(data['date'],format='%Y-%m-%d') # date parse\n",
    "data['year'] = data['date'].dt.year # year\n",
    "data['year'] = data['year'].fillna(0.0).astype(int)\n",
    "data = data[(data['year']>0)]"
   ]
  },
  {
   "cell_type": "markdown",
   "metadata": {
    "_uuid": "164c1f3ad492a62bacf8f983c1a4dfd3c55158e2"
   },
   "source": [
    "**SO2 Analysis**"
   ]
  },
  {
   "cell_type": "code",
   "execution_count": null,
   "metadata": {
    "_uuid": "74bbfee63da8c898b010e511d697d1575c570122"
   },
   "outputs": [],
   "source": [
    "df = data[['so2','year','state']].groupby([\"year\"]).median().reset_index().sort_values(by='year',ascending=False)\n",
    "f,ax=plt.subplots(figsize=(15,5))\n",
    "sns.pointplot(x='year', y='so2', data=df)"
   ]
  },
  {
   "cell_type": "code",
   "execution_count": null,
   "metadata": {
    "_uuid": "105c622b18f156ab36e789ca24f8069b61f74565"
   },
   "outputs": [],
   "source": [
    "#Heatmap Pivot with State as Row, Year as Col, No2 as Value\n",
    "f, ax = plt.subplots(figsize=(15,15))\n",
    "ax.set_title('{} by state and year'.format('so2'))\n",
    "sns.heatmap(data.pivot_table('so2', index='state',\n",
    "                columns=['year'],aggfunc='median',margins=True),\n",
    "                annot=True,cmap=\"BuPu\", linewidths=.5, ax=ax,cbar_kws={'label': 'Annual Average'})"
   ]
  },
  {
   "cell_type": "markdown",
   "metadata": {
    "_uuid": "0343f8e8e4cf37d0146c2b1079524bc823de873b"
   },
   "source": [
    "****NO2 Analysis**"
   ]
  },
  {
   "cell_type": "code",
   "execution_count": null,
   "metadata": {
    "_uuid": "f5baa2ee687be3fb41be158fc49860fe4f1070f2"
   },
   "outputs": [],
   "source": [
    "df = data[['no2','year','state']].groupby([\"year\"]).median().reset_index().sort_values(by='year',ascending=False)\n",
    "f,ax=plt.subplots(figsize=(15,5))\n",
    "sns.pointplot(x='year', y='no2', data=df)"
   ]
  },
  {
   "cell_type": "code",
   "execution_count": null,
   "metadata": {
    "_uuid": "bdc5c113f19350c09bf039395d17f86a6f2a33c1"
   },
   "outputs": [],
   "source": [
    "#Heatmap Pivot with State as Row, Year as Col, So2 as Value\n",
    "f, ax = plt.subplots(figsize=(15,15))\n",
    "ax.set_title('{} by state and year'.format('no2'))\n",
    "sns.heatmap(data.pivot_table('no2', index='state',\n",
    "                columns=['year'],aggfunc='median',margins=True),\n",
    "                annot=True,cmap=\"BuPu\", linewidths=.5, ax=ax,cbar_kws={'label': 'Annual Average'})"
   ]
  },
  {
   "cell_type": "markdown",
   "metadata": {
    "_uuid": "875d32c622232038bb3901c6c89bb146cbfd15ee",
    "collapsed": true
   },
   "source": [
    "**CONCLUSION**\n",
    "\n",
    "* Mainly Northern states have high air pollution\n",
    "* South & North East states have less air pollution \n",
    "\n"
   ]
  },
  {
   "cell_type": "markdown",
   "metadata": {
    "_uuid": "a609c331d88069a5ad6ebe9897402f837e8438e6"
   },
   "source": []
  },
  {
   "cell_type": "code",
   "execution_count": null,
   "metadata": {
    "_uuid": "031ebb3b4bac685904cf56e324536851fad32759"
   },
   "outputs": [],
   "source": []
  }
 ],
 "metadata": {
  "kernelspec": {
   "display_name": "Python 3",
   "language": "python",
   "name": "python3"
  },
  "language_info": {
   "codemirror_mode": {
    "name": "ipython",
    "version": 3
   },
   "file_extension": ".py",
   "mimetype": "text/x-python",
   "name": "python",
   "nbconvert_exporter": "python",
   "pygments_lexer": "ipython3",
   "version": "3.6.4"
  }
 },
 "nbformat": 4,
 "nbformat_minor": 1
}
