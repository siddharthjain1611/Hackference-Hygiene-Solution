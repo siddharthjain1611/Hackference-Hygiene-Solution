{
 "cells": [
  {
   "cell_type": "markdown",
   "metadata": {
    "_cell_guid": "9245d681-21a2-c308-4371-aecdb5d728e3",
    "_uuid": "2e746fdd3ba2be7a610abfa779a0745700abeaf6"
   },
   "source": []
  },
  {
   "cell_type": "markdown",
   "metadata": {
    "_cell_guid": "5a62f7cc-9393-9a3e-48ba-1e2e0b6abe50",
    "_uuid": "6ce1e21e7f31e8136e8999693946ae8c0e6236e4"
   },
   "source": [
    "The first step is the import of relevant libraries and tools to be used for analysis"
   ]
  },
  {
   "cell_type": "code",
   "execution_count": 1,
   "metadata": {
    "_cell_guid": "017bfdbf-1922-d667-684a-595ad6b662bb",
    "_execution_state": "idle",
    "_uuid": "d46138c9feea0495065a6f0547eedb7fcaceb26f"
   },
   "outputs": [
    {
     "data": {
      "text/html": [
       "<script type=\"text/javascript\">window.PlotlyConfig = {MathJaxConfig: 'local'};</script><script type=\"text/javascript\">if (window.MathJax) {MathJax.Hub.Config({SVG: {font: \"STIX-Web\"}});}</script><script>requirejs.config({paths: { 'plotly': ['https://cdn.plot.ly/plotly-latest.min']},});if(!window._Plotly) {require(['plotly'],function(plotly) {window._Plotly=plotly;});}</script>"
      ],
      "text/vnd.plotly.v1+html": [
       "<script type=\"text/javascript\">window.PlotlyConfig = {MathJaxConfig: 'local'};</script><script type=\"text/javascript\">if (window.MathJax) {MathJax.Hub.Config({SVG: {font: \"STIX-Web\"}});}</script><script>requirejs.config({paths: { 'plotly': ['https://cdn.plot.ly/plotly-latest.min']},});if(!window._Plotly) {require(['plotly'],function(plotly) {window._Plotly=plotly;});}</script>"
      ]
     },
     "metadata": {},
     "output_type": "display_data"
    }
   ],
   "source": [
    "# Import the relevant libraries\n",
    "import numpy as np\n",
    "import pandas as pd\n",
    "import matplotlib.pyplot as plt\n",
    "import plotly.offline as py\n",
    "py.init_notebook_mode(connected=True)\n",
    "import plotly.graph_objs as go\n",
    "import plotly.tools as tls\n",
    "import seaborn as sns\n",
    "import warnings\n",
    "warnings.filterwarnings('ignore')\n",
    "\n",
    "%matplotlib inline"
   ]
  },
  {
   "cell_type": "markdown",
   "metadata": {
    "_cell_guid": "4bf7458f-cf9d-e89f-c3be-72c58b608aee",
    "_uuid": "2fff84577d81bc8fdde58c11eb866c52d0020fde"
   },
   "source": [
    "Read the file and take a first look at the various columns and the values contained therein. Also do check the size of the matrix/dataframe imported that you are going to work on."
   ]
  },
  {
   "cell_type": "code",
   "execution_count": 5,
   "metadata": {
    "_cell_guid": "8c95126e-701a-71ab-4723-108e55eaa448",
    "_execution_state": "idle",
    "_uuid": "56c9214e8430f89e31f9b256375a46ec048c0257"
   },
   "outputs": [
    {
     "ename": "FileNotFoundError",
     "evalue": "File b'../input/API_ILO_country_YU.csv' does not exist",
     "output_type": "error",
     "traceback": [
      "\u001b[0;31m---------------------------------------------------------------------------\u001b[0m",
      "\u001b[0;31mFileNotFoundError\u001b[0m                         Traceback (most recent call last)",
      "\u001b[0;32m<ipython-input-5-4714ab2385b0>\u001b[0m in \u001b[0;36m<module>\u001b[0;34m\u001b[0m\n\u001b[0;32m----> 1\u001b[0;31m \u001b[0mdf\u001b[0m\u001b[0;34m=\u001b[0m\u001b[0mpd\u001b[0m\u001b[0;34m.\u001b[0m\u001b[0mread_csv\u001b[0m\u001b[0;34m(\u001b[0m\u001b[0;34m'../input/API_ILO_country_YU.csv'\u001b[0m\u001b[0;34m)\u001b[0m\u001b[0;34m\u001b[0m\u001b[0m\n\u001b[0m\u001b[1;32m      2\u001b[0m \u001b[0mdf\u001b[0m\u001b[0;34m.\u001b[0m\u001b[0mhead\u001b[0m\u001b[0;34m(\u001b[0m\u001b[0;36m5\u001b[0m\u001b[0;34m)\u001b[0m\u001b[0;34m\u001b[0m\u001b[0m\n",
      "\u001b[0;32m/Library/Frameworks/Python.framework/Versions/3.6/lib/python3.6/site-packages/pandas/io/parsers.py\u001b[0m in \u001b[0;36mparser_f\u001b[0;34m(filepath_or_buffer, sep, delimiter, header, names, index_col, usecols, squeeze, prefix, mangle_dupe_cols, dtype, engine, converters, true_values, false_values, skipinitialspace, skiprows, nrows, na_values, keep_default_na, na_filter, verbose, skip_blank_lines, parse_dates, infer_datetime_format, keep_date_col, date_parser, dayfirst, iterator, chunksize, compression, thousands, decimal, lineterminator, quotechar, quoting, escapechar, comment, encoding, dialect, tupleize_cols, error_bad_lines, warn_bad_lines, skipfooter, doublequote, delim_whitespace, low_memory, memory_map, float_precision)\u001b[0m\n\u001b[1;32m    676\u001b[0m                     skip_blank_lines=skip_blank_lines)\n\u001b[1;32m    677\u001b[0m \u001b[0;34m\u001b[0m\u001b[0m\n\u001b[0;32m--> 678\u001b[0;31m         \u001b[0;32mreturn\u001b[0m \u001b[0m_read\u001b[0m\u001b[0;34m(\u001b[0m\u001b[0mfilepath_or_buffer\u001b[0m\u001b[0;34m,\u001b[0m \u001b[0mkwds\u001b[0m\u001b[0;34m)\u001b[0m\u001b[0;34m\u001b[0m\u001b[0m\n\u001b[0m\u001b[1;32m    679\u001b[0m \u001b[0;34m\u001b[0m\u001b[0m\n\u001b[1;32m    680\u001b[0m     \u001b[0mparser_f\u001b[0m\u001b[0;34m.\u001b[0m\u001b[0m__name__\u001b[0m \u001b[0;34m=\u001b[0m \u001b[0mname\u001b[0m\u001b[0;34m\u001b[0m\u001b[0m\n",
      "\u001b[0;32m/Library/Frameworks/Python.framework/Versions/3.6/lib/python3.6/site-packages/pandas/io/parsers.py\u001b[0m in \u001b[0;36m_read\u001b[0;34m(filepath_or_buffer, kwds)\u001b[0m\n\u001b[1;32m    438\u001b[0m \u001b[0;34m\u001b[0m\u001b[0m\n\u001b[1;32m    439\u001b[0m     \u001b[0;31m# Create the parser.\u001b[0m\u001b[0;34m\u001b[0m\u001b[0;34m\u001b[0m\u001b[0m\n\u001b[0;32m--> 440\u001b[0;31m     \u001b[0mparser\u001b[0m \u001b[0;34m=\u001b[0m \u001b[0mTextFileReader\u001b[0m\u001b[0;34m(\u001b[0m\u001b[0mfilepath_or_buffer\u001b[0m\u001b[0;34m,\u001b[0m \u001b[0;34m**\u001b[0m\u001b[0mkwds\u001b[0m\u001b[0;34m)\u001b[0m\u001b[0;34m\u001b[0m\u001b[0m\n\u001b[0m\u001b[1;32m    441\u001b[0m \u001b[0;34m\u001b[0m\u001b[0m\n\u001b[1;32m    442\u001b[0m     \u001b[0;32mif\u001b[0m \u001b[0mchunksize\u001b[0m \u001b[0;32mor\u001b[0m \u001b[0miterator\u001b[0m\u001b[0;34m:\u001b[0m\u001b[0;34m\u001b[0m\u001b[0m\n",
      "\u001b[0;32m/Library/Frameworks/Python.framework/Versions/3.6/lib/python3.6/site-packages/pandas/io/parsers.py\u001b[0m in \u001b[0;36m__init__\u001b[0;34m(self, f, engine, **kwds)\u001b[0m\n\u001b[1;32m    785\u001b[0m             \u001b[0mself\u001b[0m\u001b[0;34m.\u001b[0m\u001b[0moptions\u001b[0m\u001b[0;34m[\u001b[0m\u001b[0;34m'has_index_names'\u001b[0m\u001b[0;34m]\u001b[0m \u001b[0;34m=\u001b[0m \u001b[0mkwds\u001b[0m\u001b[0;34m[\u001b[0m\u001b[0;34m'has_index_names'\u001b[0m\u001b[0;34m]\u001b[0m\u001b[0;34m\u001b[0m\u001b[0m\n\u001b[1;32m    786\u001b[0m \u001b[0;34m\u001b[0m\u001b[0m\n\u001b[0;32m--> 787\u001b[0;31m         \u001b[0mself\u001b[0m\u001b[0;34m.\u001b[0m\u001b[0m_make_engine\u001b[0m\u001b[0;34m(\u001b[0m\u001b[0mself\u001b[0m\u001b[0;34m.\u001b[0m\u001b[0mengine\u001b[0m\u001b[0;34m)\u001b[0m\u001b[0;34m\u001b[0m\u001b[0m\n\u001b[0m\u001b[1;32m    788\u001b[0m \u001b[0;34m\u001b[0m\u001b[0m\n\u001b[1;32m    789\u001b[0m     \u001b[0;32mdef\u001b[0m \u001b[0mclose\u001b[0m\u001b[0;34m(\u001b[0m\u001b[0mself\u001b[0m\u001b[0;34m)\u001b[0m\u001b[0;34m:\u001b[0m\u001b[0;34m\u001b[0m\u001b[0m\n",
      "\u001b[0;32m/Library/Frameworks/Python.framework/Versions/3.6/lib/python3.6/site-packages/pandas/io/parsers.py\u001b[0m in \u001b[0;36m_make_engine\u001b[0;34m(self, engine)\u001b[0m\n\u001b[1;32m   1012\u001b[0m     \u001b[0;32mdef\u001b[0m \u001b[0m_make_engine\u001b[0m\u001b[0;34m(\u001b[0m\u001b[0mself\u001b[0m\u001b[0;34m,\u001b[0m \u001b[0mengine\u001b[0m\u001b[0;34m=\u001b[0m\u001b[0;34m'c'\u001b[0m\u001b[0;34m)\u001b[0m\u001b[0;34m:\u001b[0m\u001b[0;34m\u001b[0m\u001b[0m\n\u001b[1;32m   1013\u001b[0m         \u001b[0;32mif\u001b[0m \u001b[0mengine\u001b[0m \u001b[0;34m==\u001b[0m \u001b[0;34m'c'\u001b[0m\u001b[0;34m:\u001b[0m\u001b[0;34m\u001b[0m\u001b[0m\n\u001b[0;32m-> 1014\u001b[0;31m             \u001b[0mself\u001b[0m\u001b[0;34m.\u001b[0m\u001b[0m_engine\u001b[0m \u001b[0;34m=\u001b[0m \u001b[0mCParserWrapper\u001b[0m\u001b[0;34m(\u001b[0m\u001b[0mself\u001b[0m\u001b[0;34m.\u001b[0m\u001b[0mf\u001b[0m\u001b[0;34m,\u001b[0m \u001b[0;34m**\u001b[0m\u001b[0mself\u001b[0m\u001b[0;34m.\u001b[0m\u001b[0moptions\u001b[0m\u001b[0;34m)\u001b[0m\u001b[0;34m\u001b[0m\u001b[0m\n\u001b[0m\u001b[1;32m   1015\u001b[0m         \u001b[0;32melse\u001b[0m\u001b[0;34m:\u001b[0m\u001b[0;34m\u001b[0m\u001b[0m\n\u001b[1;32m   1016\u001b[0m             \u001b[0;32mif\u001b[0m \u001b[0mengine\u001b[0m \u001b[0;34m==\u001b[0m \u001b[0;34m'python'\u001b[0m\u001b[0;34m:\u001b[0m\u001b[0;34m\u001b[0m\u001b[0m\n",
      "\u001b[0;32m/Library/Frameworks/Python.framework/Versions/3.6/lib/python3.6/site-packages/pandas/io/parsers.py\u001b[0m in \u001b[0;36m__init__\u001b[0;34m(self, src, **kwds)\u001b[0m\n\u001b[1;32m   1706\u001b[0m         \u001b[0mkwds\u001b[0m\u001b[0;34m[\u001b[0m\u001b[0;34m'usecols'\u001b[0m\u001b[0;34m]\u001b[0m \u001b[0;34m=\u001b[0m \u001b[0mself\u001b[0m\u001b[0;34m.\u001b[0m\u001b[0musecols\u001b[0m\u001b[0;34m\u001b[0m\u001b[0m\n\u001b[1;32m   1707\u001b[0m \u001b[0;34m\u001b[0m\u001b[0m\n\u001b[0;32m-> 1708\u001b[0;31m         \u001b[0mself\u001b[0m\u001b[0;34m.\u001b[0m\u001b[0m_reader\u001b[0m \u001b[0;34m=\u001b[0m \u001b[0mparsers\u001b[0m\u001b[0;34m.\u001b[0m\u001b[0mTextReader\u001b[0m\u001b[0;34m(\u001b[0m\u001b[0msrc\u001b[0m\u001b[0;34m,\u001b[0m \u001b[0;34m**\u001b[0m\u001b[0mkwds\u001b[0m\u001b[0;34m)\u001b[0m\u001b[0;34m\u001b[0m\u001b[0m\n\u001b[0m\u001b[1;32m   1709\u001b[0m \u001b[0;34m\u001b[0m\u001b[0m\n\u001b[1;32m   1710\u001b[0m         \u001b[0mpassed_names\u001b[0m \u001b[0;34m=\u001b[0m \u001b[0mself\u001b[0m\u001b[0;34m.\u001b[0m\u001b[0mnames\u001b[0m \u001b[0;32mis\u001b[0m \u001b[0;32mNone\u001b[0m\u001b[0;34m\u001b[0m\u001b[0m\n",
      "\u001b[0;32mpandas/_libs/parsers.pyx\u001b[0m in \u001b[0;36mpandas._libs.parsers.TextReader.__cinit__\u001b[0;34m()\u001b[0m\n",
      "\u001b[0;32mpandas/_libs/parsers.pyx\u001b[0m in \u001b[0;36mpandas._libs.parsers.TextReader._setup_parser_source\u001b[0;34m()\u001b[0m\n",
      "\u001b[0;31mFileNotFoundError\u001b[0m: File b'../input/API_ILO_country_YU.csv' does not exist"
     ]
    }
   ],
   "source": [
    "df=pd.read_csv('API_ILO_country_YU.csv')\n",
    "df.head(5)"
   ]
  },
  {
   "cell_type": "code",
   "execution_count": 2,
   "metadata": {
    "_cell_guid": "7e87ee45-34ff-cd42-baf3-f578d18ae172",
    "_execution_state": "idle",
    "_uuid": "878b10440d0d55306c42644ac06b32cc2d3cdbee"
   },
   "outputs": [
    {
     "ename": "NameError",
     "evalue": "name 'df' is not defined",
     "output_type": "error",
     "traceback": [
      "\u001b[0;31m---------------------------------------------------------------------------\u001b[0m",
      "\u001b[0;31mNameError\u001b[0m                                 Traceback (most recent call last)",
      "\u001b[0;32m<ipython-input-2-633337079cd0>\u001b[0m in \u001b[0;36m<module>\u001b[0;34m\u001b[0m\n\u001b[0;32m----> 1\u001b[0;31m \u001b[0mdf\u001b[0m\u001b[0;34m.\u001b[0m\u001b[0mshape\u001b[0m\u001b[0;34m\u001b[0m\u001b[0m\n\u001b[0m",
      "\u001b[0;31mNameError\u001b[0m: name 'df' is not defined"
     ]
    }
   ],
   "source": [
    "df.shape"
   ]
  },
  {
   "cell_type": "markdown",
   "metadata": {
    "_cell_guid": "89ca8d7f-9319-ddf1-06f7-47dca2fda4a9",
    "_uuid": "e42ab6e8f362c710cf2ea5320eda888d6ddbb2e5"
   },
   "source": []
  },
  {
   "cell_type": "code",
   "execution_count": null,
   "metadata": {
    "_cell_guid": "52538e29-e94b-c1af-71c4-4479c59e3617",
    "_execution_state": "idle",
    "_uuid": "8cb9d048ee95d1cf2c640ab27aa4e019ca2a2299",
    "collapsed": true
   },
   "outputs": [],
   "source": [
    "df.columns"
   ]
  },
  {
   "cell_type": "markdown",
   "metadata": {
    "_cell_guid": "a9ec1941-d06c-3006-b48d-9899c7b1ccbf",
    "_uuid": "93ea9a76e5422334ce6d55d42a228913fc463d5c"
   },
   "source": []
  },
  {
   "cell_type": "code",
   "execution_count": null,
   "metadata": {
    "_cell_guid": "337c0d3a-ed79-3c7b-fee6-91108f1c6c0e",
    "_execution_state": "idle",
    "_uuid": "5cbe275e5bbe17dcbc82fbcd176b0a4a17048a40",
    "collapsed": true
   },
   "outputs": [],
   "source": [
    "non_country_list=['Arab World','Central Europe and the Baltics','Caribbean small states','East Asia & Pacific (excluding high income)',\n",
    "                 'Early-demographic dividend', 'East Asia & Pacific','Europe & Central Asia (excluding high income)',\n",
    "                 'Europe & Central Asia','Euro area','European Union','Fragile and conflict affected situations','High income',\n",
    "                 'Heavily indebted poor countries (HIPC)','IBRD only', 'IDA & IBRD total', 'IDA total','IDA blend','IDA only',\n",
    "                 'Latin America & Caribbean (excluding high income)','Latin America & Caribbean','Least developed countries: UN classification', \n",
    "                 'Low income','Lower middle income', 'Low & middle income','Late-demographic dividend','Middle East & North Africa',\n",
    "                 'Middle income','Middle East & North Africa (excluding high income)','North America','OECD members','Other small states',\n",
    "                 'Pre-demographic dividend','Post-demographic dividend','South Asia','Sub-Saharan Africa (excluding high income)',\n",
    "                 'Sub-Saharan Africa','Small states','East Asia & Pacific (IDA & IBRD countries)',\n",
    "                 'Europe & Central Asia (IDA & IBRD countries)','Latin America & the Caribbean (IDA & IBRD countries)',\n",
    "                 'Middle East & North Africa (IDA & IBRD countries)','South Asia (IDA & IBRD)',\n",
    "                 'Sub-Saharan Africa (IDA & IBRD countries)','Upper middle income','World']"
   ]
  },
  {
   "cell_type": "code",
   "execution_count": null,
   "metadata": {
    "_cell_guid": "52f883eb-b806-897b-88cd-a8403de72336",
    "_execution_state": "idle",
    "_uuid": "4539825e4c7b52372a9e39568b53bbaacb1bb830",
    "collapsed": true
   },
   "outputs": [],
   "source": [
    "df_non_country=df[df['Country Name'].isin(non_country_list)]"
   ]
  },
  {
   "cell_type": "code",
   "execution_count": null,
   "metadata": {
    "_cell_guid": "990f6565-ce1c-6ad4-541f-c780b0d84399",
    "_execution_state": "idle",
    "_uuid": "fcc89e66684c4819547da2d2eaacb4a30dc10f06",
    "collapsed": true
   },
   "outputs": [],
   "source": [
    "df_non_country.head()"
   ]
  },
  {
   "cell_type": "code",
   "execution_count": null,
   "metadata": {
    "_cell_guid": "c6d61d00-9168-f13b-03fb-d62e570f03bc",
    "_execution_state": "idle",
    "_uuid": "887510cfe453a8dffc3c4238d97238770596472c",
    "collapsed": true
   },
   "outputs": [],
   "source": [
    "df_non_country.shape"
   ]
  },
  {
   "cell_type": "code",
   "execution_count": null,
   "metadata": {
    "_cell_guid": "0c333c08-44c0-6969-b69a-65a6038298b2",
    "_execution_state": "idle",
    "_uuid": "3d255f3afc4ee40649fee4e4ce1dea3c96fa487d",
    "collapsed": true
   },
   "outputs": [],
   "source": [
    "index=df_non_country.index"
   ]
  },
  {
   "cell_type": "code",
   "execution_count": null,
   "metadata": {
    "_cell_guid": "3bc54658-c119-b43a-0843-d4ac1a77ab8b",
    "_execution_state": "idle",
    "_uuid": "f72d67fca6c8a9bc073a29996adc425eaa5334ca",
    "collapsed": true
   },
   "outputs": [],
   "source": [
    "df_country=df.drop(index)"
   ]
  },
  {
   "cell_type": "code",
   "execution_count": null,
   "metadata": {
    "_cell_guid": "4669e71e-64b2-413d-9b5a-abdcb23f5168",
    "_execution_state": "idle",
    "_uuid": "ce14ac1588e4b2848913c836df9277676487b7f2",
    "collapsed": true
   },
   "outputs": [],
   "source": [
    "df_country.head()"
   ]
  },
  {
   "cell_type": "code",
   "execution_count": 3,
   "metadata": {
    "_cell_guid": "7db3c0fb-e5cc-d86b-6b4f-b5df9f75fee7",
    "_execution_state": "idle",
    "_uuid": "39d9bc59ea9345c0693399e8ba80e2e83e44970f"
   },
   "outputs": [
    {
     "ename": "NameError",
     "evalue": "name 'df_country' is not defined",
     "output_type": "error",
     "traceback": [
      "\u001b[0;31m---------------------------------------------------------------------------\u001b[0m",
      "\u001b[0;31mNameError\u001b[0m                                 Traceback (most recent call last)",
      "\u001b[0;32m<ipython-input-3-9229f20f3972>\u001b[0m in \u001b[0;36m<module>\u001b[0;34m\u001b[0m\n\u001b[0;32m----> 1\u001b[0;31m \u001b[0mdf_country\u001b[0m\u001b[0;34m.\u001b[0m\u001b[0mshape\u001b[0m\u001b[0;34m\u001b[0m\u001b[0m\n\u001b[0m",
      "\u001b[0;31mNameError\u001b[0m: name 'df_country' is not defined"
     ]
    }
   ],
   "source": [
    "df_country.shape"
   ]
  },
  {
   "cell_type": "markdown",
   "metadata": {
    "_cell_guid": "9c369daa-d051-1ef7-0925-00a378d900ba",
    "_uuid": "5a78811b3425d8477d04adfb42236df599e7056c"
   },
   "source": [
    "# Exploratory Analysis of the data\n",
    "\n",
    "We will begin with an exploratory analysis of the data by making several basic statistical plots such as box plots, scatter plots etc. of the data from individual countries and having a quick glance at how the various countries compare against one another. This first look into the data will reveal several basic information about the data as to the max-min values, the average and median values etc. to name a few."
   ]
  },
  {
   "cell_type": "markdown",
   "metadata": {
    "_cell_guid": "ffac54a1-3b16-1a6a-5ab9-4db2f08a0a74",
    "_uuid": "b915bb537441de2ad8a937de0cb3fda13d0aac06"
   },
   "source": [
    "# Box Plots\n",
    "\n",
    "The box plot of all the individual counteries for the 5 year duration during which the data is collected is shown below."
   ]
  },
  {
   "cell_type": "code",
   "execution_count": 4,
   "metadata": {
    "_cell_guid": "f8e99aec-76c5-0538-7769-68942de3c2c7",
    "_execution_state": "idle",
    "_uuid": "149919da2480447128208dfd61bb6ee252e6991e"
   },
   "outputs": [
    {
     "ename": "NameError",
     "evalue": "name 'df_country' is not defined",
     "output_type": "error",
     "traceback": [
      "\u001b[0;31m---------------------------------------------------------------------------\u001b[0m",
      "\u001b[0;31mNameError\u001b[0m                                 Traceback (most recent call last)",
      "\u001b[0;32m<ipython-input-4-0fb40c7894ab>\u001b[0m in \u001b[0;36m<module>\u001b[0;34m\u001b[0m\n\u001b[1;32m      1\u001b[0m \u001b[0mx_data\u001b[0m \u001b[0;34m=\u001b[0m \u001b[0;34m[\u001b[0m\u001b[0;34m'2010'\u001b[0m\u001b[0;34m,\u001b[0m \u001b[0;34m'2011'\u001b[0m\u001b[0;34m,\u001b[0m\u001b[0;34m'2012'\u001b[0m\u001b[0;34m,\u001b[0m \u001b[0;34m'2013'\u001b[0m\u001b[0;34m,\u001b[0m\u001b[0;34m'2014'\u001b[0m\u001b[0;34m]\u001b[0m\u001b[0;34m\u001b[0m\u001b[0m\n\u001b[1;32m      2\u001b[0m \u001b[0;34m\u001b[0m\u001b[0m\n\u001b[0;32m----> 3\u001b[0;31m \u001b[0my0\u001b[0m \u001b[0;34m=\u001b[0m \u001b[0mdf_country\u001b[0m\u001b[0;34m[\u001b[0m\u001b[0;34m'2010'\u001b[0m\u001b[0;34m]\u001b[0m\u001b[0;34m\u001b[0m\u001b[0m\n\u001b[0m\u001b[1;32m      4\u001b[0m \u001b[0my1\u001b[0m \u001b[0;34m=\u001b[0m \u001b[0mdf_country\u001b[0m\u001b[0;34m[\u001b[0m\u001b[0;34m'2011'\u001b[0m\u001b[0;34m]\u001b[0m\u001b[0;34m\u001b[0m\u001b[0m\n\u001b[1;32m      5\u001b[0m \u001b[0my2\u001b[0m \u001b[0;34m=\u001b[0m \u001b[0mdf_country\u001b[0m\u001b[0;34m[\u001b[0m\u001b[0;34m'2012'\u001b[0m\u001b[0;34m]\u001b[0m\u001b[0;34m\u001b[0m\u001b[0m\n",
      "\u001b[0;31mNameError\u001b[0m: name 'df_country' is not defined"
     ]
    }
   ],
   "source": [
    "x_data = ['2010', '2011','2012', '2013','2014']\n",
    "\n",
    "y0 = df_country['2010']\n",
    "y1 = df_country['2011']\n",
    "y2 = df_country['2012']\n",
    "y3 = df_country['2013']\n",
    "y4 = df_country['2014']\n",
    "\n",
    "y_data = [y0,y1,y2,y3,y4]\n",
    "\n",
    "colors = ['rgba(93, 164, 214, 0.5)', 'rgba(255, 144, 14, 0.5)', 'rgba(44, 160, 101, 0.5)',\n",
    "          'rgba(255, 65, 54, 0.5)', 'rgba(207, 114, 255, 0.5)']\n",
    "\n",
    "traces = []\n",
    "\n",
    "for xd, yd, color in zip(x_data, y_data, colors):\n",
    "        traces.append(go.Box(\n",
    "            y=yd,\n",
    "            name=xd,\n",
    "            boxpoints='all',\n",
    "            whiskerwidth=0.2,\n",
    "            fillcolor=color,\n",
    "            marker=dict(\n",
    "                size=2,\n",
    "            ),\n",
    "            boxmean=True,    \n",
    "            line=dict(width=1),\n",
    "        ))\n",
    "\n",
    "layout = go.Layout(\n",
    "    title='Distribution of Unemployment Data',\n",
    "    xaxis=dict(\n",
    "        title='Year'\n",
    "    ),\n",
    "    yaxis=dict(\n",
    "        title='Unemployment Rate (%)',\n",
    "        autorange=True,\n",
    "        showgrid=True,\n",
    "        zeroline=False,\n",
    "        dtick=5,\n",
    "        gridcolor='rgb(255, 255, 255)',\n",
    "        gridwidth=1,\n",
    "#        zerolinecolor='rgb(255, 255, 255)',\n",
    "#        zerolinewidth=2,\n",
    "    ),\n",
    "    margin=dict(\n",
    "        l=40,\n",
    "        r=30,\n",
    "        b=80,\n",
    "        t=100,\n",
    "    ),\n",
    "    paper_bgcolor='rgb(243, 243, 243)',\n",
    "    plot_bgcolor='rgb(243, 243, 243)',\n",
    "    showlegend=False\n",
    ")\n",
    "\n",
    "fig = go.Figure(data=traces, layout=layout)\n",
    "py.iplot(fig)"
   ]
  },
  {
   "cell_type": "markdown",
   "metadata": {
    "_cell_guid": "c2bb2b62-1840-48d8-e315-5dbc2781ed7d",
    "_uuid": "cfcebe0fbff8dbaa13d26725378243c16a20258d"
   },
   "source": [
    "** Inferences from Box Plots **\n",
    "\n",
    "The box plot along with the scatter data helps us to visualize the data in a better way. From the box plots it can be easily seen that the mean of the data over the years remains almost constant with 18.285 % in 2010 to 18.2546 % in 2014. Aside from that it is readily observed that median in each case is lower than the average suggesting that unemployment in majority of the countries is lower than the average unemployment rate. The median range however varies from 16.05 % (2010) to 14.3 % (2014) peaking in 2010 thus suggesting that overall in majority of the countries the unemployment rate has gone down, though only marginally. Most of the data is in the IQR (Inter Quartile Range) throughout the years that data has been collected with only a small number of cases each year that lie beyond the upper bound suugesting presence of severe unemployment in countries represented by these. These are usually the outliers in the data evidenced from their being small in numbers (out of 174 countries only around 5 of these have unemployment rates outside the upper bound in 2010)"
   ]
  },
  {
   "cell_type": "markdown",
   "metadata": {
    "_cell_guid": "74a4f084-b2e7-7445-3792-bac3a230d8e3",
    "_uuid": "cbb13846d2576eaebfbb8c04a2be325b90cdb3f2"
   },
   "source": [
    "\n",
    "\n",
    "# Scatter Plots\n",
    "\n",
    "Next I am going to have a deeper look into data by making scatter plots from the data where we will be comparing countries such that companies having higher rate of unemployment will have a bigger bubble than the one suffering from a lower unemployment rate. Although the plots have been made for all the years that the data has been collected, discussion will only be done for 2010 and 2014 as similar observations could be made from the other plots.  "
   ]
  },
  {
   "cell_type": "code",
   "execution_count": null,
   "metadata": {
    "_cell_guid": "2edcd7d2-1dd0-7957-4ae3-7db3b46c14e3",
    "_execution_state": "idle",
    "_uuid": "9952f8541d7f75f8e1e913f29c91d77c6a2ebd8c",
    "collapsed": true
   },
   "outputs": [],
   "source": [
    "l=[]\n",
    "trace0= go.Scatter(\n",
    "        y= df_country['2010'],\n",
    "        mode= 'markers',\n",
    "        name='Unemployment (%)',\n",
    "        marker= dict(size= df_country['2010'].values,\n",
    "                    line= dict(width=1),\n",
    "                    color= df_country['2010'].values,\n",
    "                    opacity= 0.7,\n",
    "                    colorscale='Portland',\n",
    "                    showscale=True),\n",
    "        text= df_country['Country Name'].values) # The hover text goes here... \n",
    "l.append(trace0);\n",
    "\n",
    "layout= go.Layout(\n",
    "    title= 'Scatter plot of unemployment rates in 2010',\n",
    "    hovermode= 'closest',\n",
    "    xaxis= dict(\n",
    "#        title= 'Pop',\n",
    "        ticklen= 5,\n",
    "        zeroline= False,\n",
    "        gridwidth= 2,\n",
    "    ),\n",
    "    yaxis=dict(\n",
    "        title= 'Unemployment Rate (%)',\n",
    "        ticklen= 5,\n",
    "        gridwidth= 2,\n",
    "    ),\n",
    "    showlegend= False,\n",
    ")\n",
    "fig= go.Figure(data=l, layout=layout)\n",
    "py.iplot(fig)\n",
    "\n",
    "# Pre-defined color scales - 'pairs' | 'Greys' | 'Greens' | 'Bluered' | 'Hot' | 'Picnic' | 'Portland' | 'Jet' | \n",
    "# 'RdBu' | 'Blackbody' | 'Earth' | 'Electric' | 'YIOrRd' | 'YIGnBu'\n",
    "\n",
    "# Chose Portland because it seems to be the best colorscale"
   ]
  },
  {
   "cell_type": "code",
   "execution_count": null,
   "metadata": {
    "_cell_guid": "2e3c2888-0ce7-1b98-3016-dd5a57f46115",
    "_execution_state": "idle",
    "_uuid": "824811c5883cede214d39403aff17f39ac2b19a4",
    "collapsed": true
   },
   "outputs": [],
   "source": [
    "l1=[]\n",
    "trace1= go.Scatter(\n",
    "        y= df_country['2011'],\n",
    "        mode= 'markers',\n",
    "        name='Unemployment (%)',\n",
    "        marker= dict(size= df_country['2011'].values,\n",
    "                    line= dict(width=1),\n",
    "                    color= df_country['2011'].values,\n",
    "                    opacity= 0.7,\n",
    "                    colorscale='Portland',\n",
    "                    showscale=True),\n",
    "        text= df_country['Country Name'].values) # The hover text goes here... \n",
    "l1.append(trace1);\n",
    "\n",
    "layout= go.Layout(\n",
    "    title= 'Scatter plot of unemployment rates in 2011',\n",
    "    hovermode= 'closest',\n",
    "    xaxis= dict(\n",
    "#        title= 'Pop',\n",
    "        ticklen= 5,\n",
    "        zeroline= False,\n",
    "        gridwidth= 2,\n",
    "    ),\n",
    "    yaxis=dict(\n",
    "        title= 'Unemployment Rate (%)',\n",
    "        ticklen= 5,\n",
    "        gridwidth= 2,\n",
    "    ),\n",
    "    showlegend= False\n",
    ")\n",
    "fig= go.Figure(data=l1, layout=layout)\n",
    "py.iplot(fig,filename='scatter_plot2011')\n",
    "\n",
    "# Pre-defined color scales - 'pairs' | 'Greys' | 'Greens' | 'Bluered' | 'Hot' | 'Picnic' | 'Portland' | 'Jet' | \n",
    "# 'RdBu' | 'Blackbody' | 'Earth' | 'Electric' | 'YIOrRd' | 'YIGnBu'\n",
    "\n",
    "# Chose Portland because it seems to be the best colorscale"
   ]
  },
  {
   "cell_type": "code",
   "execution_count": null,
   "metadata": {
    "_cell_guid": "ec57b227-5c28-b7c4-9605-68692fbbe4f4",
    "_execution_state": "idle",
    "_uuid": "1ac5f0550ed0d0700a678875af4d8d8fe2672e3d",
    "collapsed": true
   },
   "outputs": [],
   "source": [
    "l2=[]\n",
    "trace2= go.Scatter(\n",
    "        y= df_country['2012'],\n",
    "        mode= 'markers',\n",
    "        name='Unemployment (%)',\n",
    "        marker= dict(size= df_country['2012'].values,\n",
    "                    line= dict(width=1),\n",
    "                    color= df_country['2012'].values,\n",
    "                    opacity= 0.7,\n",
    "                    colorscale='Portland',\n",
    "                    showscale=True),\n",
    "        text= df_country['Country Name'].values) # The hover text goes here... \n",
    "l2.append(trace2);\n",
    "\n",
    "layout= go.Layout(\n",
    "    title= 'Scatter plot of unemployment rates in 2012',\n",
    "    hovermode= 'closest',\n",
    "    xaxis= dict(\n",
    "#        title= 'Pop',\n",
    "        ticklen= 5,\n",
    "        zeroline= False,\n",
    "        gridwidth= 2,\n",
    "    ),\n",
    "    yaxis=dict(\n",
    "        title= 'Unemployment Rate (%)',\n",
    "        ticklen= 5,\n",
    "        gridwidth= 2,\n",
    "    ),\n",
    "    showlegend= False\n",
    ")\n",
    "fig= go.Figure(data=l2, layout=layout)\n",
    "py.iplot(fig,filename='scatter_plot2012')\n",
    "\n",
    "# Pre-defined color scales - 'pairs' | 'Greys' | 'Greens' | 'Bluered' | 'Hot' | 'Picnic' | 'Portland' | 'Jet' | \n",
    "# 'RdBu' | 'Blackbody' | 'Earth' | 'Electric' | 'YIOrRd' | 'YIGnBu'\n",
    "\n",
    "# Chose Portland because it seems to be the best colorscale"
   ]
  },
  {
   "cell_type": "code",
   "execution_count": null,
   "metadata": {
    "_cell_guid": "dd9e08e8-5a7f-46e5-3df7-5fa54d75b685",
    "_execution_state": "idle",
    "_uuid": "dbf0a6a0421a9639039d83e5e4ccbb1bd45dd6b6",
    "collapsed": true
   },
   "outputs": [],
   "source": [
    "l3=[]\n",
    "trace3= go.Scatter(\n",
    "        y= df_country['2013'],\n",
    "        mode= 'markers',\n",
    "        name='Unemployment (%)',\n",
    "        marker= dict(size= df_country['2013'].values,\n",
    "                    line= dict(width=1),\n",
    "                    color= df_country['2013'].values,\n",
    "                    opacity= 0.7,\n",
    "                    colorscale='Portland',\n",
    "                    showscale=True),\n",
    "        text= df_country['Country Name'].values) # The hover text goes here... \n",
    "l3.append(trace3);\n",
    "\n",
    "layout= go.Layout(\n",
    "    title= 'Scatter plot of unemployment rates in 2013',\n",
    "    hovermode= 'closest',\n",
    "    xaxis= dict(\n",
    "#        title= 'Pop',\n",
    "        ticklen= 5,\n",
    "        zeroline= False,\n",
    "        gridwidth= 2,\n",
    "    ),\n",
    "    yaxis=dict(\n",
    "        title= 'Unemployment Rate (%)',\n",
    "        ticklen= 5,\n",
    "        gridwidth= 2,\n",
    "    ),\n",
    "    showlegend= False\n",
    ")\n",
    "fig= go.Figure(data=l3, layout=layout)\n",
    "py.iplot(fig,filename='scatter_plot2013')\n",
    "\n",
    "# Pre-defined color scales - 'pairs' | 'Greys' | 'Greens' | 'Bluered' | 'Hot' | 'Picnic' | 'Portland' | 'Jet' | \n",
    "# 'RdBu' | 'Blackbody' | 'Earth' | 'Electric' | 'YIOrRd' | 'YIGnBu'\n",
    "\n",
    "# Chose Portland because it seems to be the best colorscale"
   ]
  },
  {
   "cell_type": "code",
   "execution_count": null,
   "metadata": {
    "_cell_guid": "a74e89d1-6a5f-a22f-08c1-1fcf0331288a",
    "_execution_state": "idle",
    "_uuid": "01388c8cc7b425ffc0a9de43e8c8885c1487d000",
    "collapsed": true
   },
   "outputs": [],
   "source": [
    "l4=[]\n",
    "trace4= go.Scatter(\n",
    "        y= df_country['2014'],\n",
    "        mode= 'markers',\n",
    "        name='Unemployment (%)',\n",
    "        marker= dict(size= df_country['2014'].values,\n",
    "                    line= dict(width=1),\n",
    "                    color= df_country['2014'].values,\n",
    "                    opacity= 0.7,\n",
    "                    colorscale='Portland',\n",
    "                    showscale=True),\n",
    "        text= df_country['Country Name'].values) # The hover text goes here... \n",
    "l4.append(trace4);\n",
    "\n",
    "layout= go.Layout(\n",
    "    title= 'Scatter plot of unemployment rates in 2014',\n",
    "    hovermode= 'closest',\n",
    "    xaxis= dict(\n",
    "#        title= 'Pop',\n",
    "        ticklen= 5,\n",
    "        zeroline= False,\n",
    "        gridwidth= 2,\n",
    "    ),\n",
    "    yaxis=dict(\n",
    "        title= 'Unemployment Rate (%)',\n",
    "        ticklen= 5,\n",
    "        gridwidth= 2,\n",
    "    ),\n",
    "    showlegend= False\n",
    ")\n",
    "fig= go.Figure(data=l4, layout=layout)\n",
    "py.iplot(fig,filename='scatter_plot2014')\n",
    "\n",
    "# Pre-defined color scales - 'pairs' | 'Greys' | 'Greens' | 'Bluered' | 'Hot' | 'Picnic' | 'Portland' | 'Jet' | \n",
    "# 'RdBu' | 'Blackbody' | 'Earth' | 'Electric' | 'YIOrRd' | 'YIGnBu'\n",
    "\n",
    "# Chose Portland because it seems to be the best colorscale"
   ]
  },
  {
   "cell_type": "code",
   "execution_count": null,
   "metadata": {
    "_cell_guid": "3b5ed437-421f-4b69-8703-cbce72edc00a",
    "_uuid": "e4fceb96d04544e162618331b06b548ee4911ef7",
    "collapsed": true
   },
   "outputs": [],
   "source": []
  },
  {
   "cell_type": "markdown",
   "metadata": {
    "_cell_guid": "c1485747-3ec8-3ab4-3793-21f6bf62ba1e",
    "_uuid": "aaef08675bc0935f253bfdb5ab9cb15e2057458f"
   },
   "source": [
    "**Observations**\n",
    "\n",
    "As evidenced from the scatter plots it is observed that several countries like South Africa, Bosnia and Herzegovina which were already suffering from high unemployment rates in 2010 are still among the countries with highest unemployment rates even in 2014. However, the conditions of some european countries has been going from bad to worse year on year. Greece which was badly hit in the economic slowdown and had to be bailed out by European Union seems to be badly hit by rising unemployment along with Spain and Italy among others. Even from our scatter plots we can see that majority of countries still are in the lower ranges of unemployment suggesting that all is not lost for the youths everywhere."
   ]
  },
  {
   "cell_type": "markdown",
   "metadata": {
    "_cell_guid": "23fbce51-65ca-9d5d-d6f7-3e583119bc5b",
    "_uuid": "56d4f97f5c3d2d7b02210833b6c11e29bcd88839"
   },
   "source": [
    "# Horizontal Bar Plots-All Countries & Best/Worst Performers"
   ]
  },
  {
   "cell_type": "markdown",
   "metadata": {
    "_cell_guid": "c501ca3d-5a4d-c816-43de-709a9f50a7bd",
    "_uuid": "00cc0d8f28acb3627f21b61207d967636ffa078f"
   },
   "source": [
    "Merely knowing where each country stood over the years or with respect to each other is not enough. We should also be able to deduce from the data how unemployment has changed over the years in a country. This will tell us how the government's/economies of respective countries have managed the crisis of unemployment looming in their backyard and how they have countered it in shorter term (2 yr periods) and on a longer term (5 year period). To this end 3 additional columns have been added to the data for the accounting the percentage change in a country's unemployment rate from 2010 to 2012, change from 2012 to 2014 and ultimately the change in unemployment from 2010 to 2014."
   ]
  },
  {
   "cell_type": "code",
   "execution_count": null,
   "metadata": {
    "_cell_guid": "a17f09ad-58cb-6fc5-0dfb-34d357235a61",
    "_execution_state": "idle",
    "_uuid": "b62508857ec2c422b5293b58b2799b4e22ef3d51",
    "collapsed": true
   },
   "outputs": [],
   "source": [
    "df_country['2014-2012 change']=df_country['2014']-df_country['2012']"
   ]
  },
  {
   "cell_type": "code",
   "execution_count": null,
   "metadata": {
    "_cell_guid": "405caf3c-f5de-1ee2-750e-273f5b5943bf",
    "_execution_state": "idle",
    "_uuid": "3f9834cd692a3c7d4598c9417adf221acb59f978",
    "collapsed": true
   },
   "outputs": [],
   "source": [
    "df_country['2012-2010 change']=df_country['2012']-df_country['2010']"
   ]
  },
  {
   "cell_type": "code",
   "execution_count": null,
   "metadata": {
    "_cell_guid": "024a2b33-2e68-fa2e-dece-33c8751dd265",
    "_execution_state": "idle",
    "_uuid": "fa18d9dfea8d326c4bd4dd4900d1b96ac289423c",
    "collapsed": true
   },
   "outputs": [],
   "source": [
    "df_country.head()"
   ]
  },
  {
   "cell_type": "code",
   "execution_count": null,
   "metadata": {
    "_cell_guid": "f1c557b1-8dcb-a16a-d330-e1c76895e840",
    "_execution_state": "idle",
    "_uuid": "f1fc1c21895d2d4dfa0e71de538826a0e6d8395e",
    "collapsed": true
   },
   "outputs": [],
   "source": [
    "# Tried with Plotly now going with seaborn\n",
    "twoyearchange201412_bar, countries_bar1 = (list(x) for x in zip(*sorted(zip(df_country['2014-2012 change'], df_country['Country Name']), \n",
    "                                                             reverse = True)))\n",
    "\n",
    "twoyearchange201210_bar, countries_bar2 = (list(x) for x in zip(*sorted(zip(df_country['2012-2010 change'], df_country['Country Name']), \n",
    "                                                             reverse = True)))\n",
    "\n",
    "# Another direct way of sorting according to values is creating distinct sorted dataframes as in below commented ways and then\n",
    "# passing their values directly as in below mentioned code to achieve the same effect as by above mentioned method.\n",
    "\n",
    "# df_country_sorted=df_country.sort(columns='2014-2012 change',ascending=False)\n",
    "# df_country_sorted.head()\n",
    "\n",
    "\n",
    "sns.set(font_scale=1) \n",
    "fig, axes = plt.subplots(1,2,figsize=(20, 50))\n",
    "colorspal = sns.color_palette('husl', len(df_country['2014']))\n",
    "sns.barplot(twoyearchange201412_bar, countries_bar1, palette = colorspal,ax=axes[0])\n",
    "sns.barplot(twoyearchange201210_bar, countries_bar2, palette = colorspal,ax=axes[1])\n",
    "axes[0].set(xlabel='%age change in Youth Unemployment Rates', title='Net %age change in Youth Unemployment Rates between 2012-2014')\n",
    "axes[1].set(xlabel='%age change in Youth Unemployment Rates', title='Net %age change in Youth Unemployment Rates between 2010-2012')\n",
    "fig.savefig('output.png')"
   ]
  },
  {
   "cell_type": "code",
   "execution_count": null,
   "metadata": {
    "_cell_guid": "d1b84d74-a5d3-9a92-0665-fbb5a1cadc34",
    "_execution_state": "idle",
    "_uuid": "cf1a5122310e4c935933b0b9b51f11fc19c0b981",
    "collapsed": true
   },
   "outputs": [],
   "source": [
    "df_country['2014-2010 change']=df_country['2014']-df_country['2010']"
   ]
  },
  {
   "cell_type": "code",
   "execution_count": null,
   "metadata": {
    "_cell_guid": "7595d931-5671-a45b-3fcc-76044efd196c",
    "_execution_state": "idle",
    "_uuid": "fb0bec040201d33b4d5cf2fe094b87d1c5ad5bef",
    "collapsed": true
   },
   "outputs": [],
   "source": [
    "def top_successful_1(df,n=10,column='2014-2010 change'):\n",
    "    return df.sort_index(by=column,ascending=True).head(n)"
   ]
  },
  {
   "cell_type": "code",
   "execution_count": null,
   "metadata": {
    "_cell_guid": "12aa8525-7d84-b904-d089-fcf4d5a6dfca",
    "_execution_state": "idle",
    "_uuid": "1b0a1323afdb6ec122b2905e0d3f1509ccf49a51",
    "collapsed": true
   },
   "outputs": [],
   "source": [
    "def top_failure_1(df,n=10,column='2014-2010 change'):\n",
    "    return df.sort_index(by=column,ascending=False).head(n)"
   ]
  },
  {
   "cell_type": "code",
   "execution_count": null,
   "metadata": {
    "_cell_guid": "18a2c698-8c95-5f5d-9450-c193e4fbc7bd",
    "_execution_state": "idle",
    "_uuid": "505d60df603de4d9cec5853ff459ca3acda50f0a",
    "collapsed": true
   },
   "outputs": [],
   "source": [
    "top15=top_successful_1(df_country,n=15)"
   ]
  },
  {
   "cell_type": "code",
   "execution_count": null,
   "metadata": {
    "_cell_guid": "02e956a0-e3d6-d17d-d09c-37a977cccaaa",
    "_execution_state": "idle",
    "_uuid": "06d1a5dba70545b1d62091dd0659bc6cfdb3e040",
    "collapsed": true
   },
   "outputs": [],
   "source": [
    "bottom15=top_failure_1(df_country,n=15)"
   ]
  },
  {
   "cell_type": "code",
   "execution_count": null,
   "metadata": {
    "_cell_guid": "3dd6f94c-3230-d0fb-42e6-3823c8940283",
    "_execution_state": "idle",
    "_uuid": "9bce59343863ea3d24cebc62c8ab6c6ec99579c7",
    "collapsed": true
   },
   "outputs": [],
   "source": [
    "sns.set(font_scale=1.4) \n",
    "fig, axes = plt.subplots(1,2,figsize=(25, 20))\n",
    "colorspal = sns.color_palette('husl', len(top15['2014']))\n",
    "sns.barplot(top15['2014-2010 change'], top15['Country Name'], palette = colorspal,ax=axes[0])\n",
    "sns.barplot(bottom15['2014-2010 change'], bottom15['Country Name'], palette = colorspal,ax=axes[1])\n",
    "axes[0].set(xlabel='%age change in Youth Unemployment Rates', title='Top 15 Performers in Controlling Unemployment between 2010-14')\n",
    "axes[1].set(xlabel='%age change in Youth Unemployment Rates', title='Bottom 15 Performers in Controlling Unemployment between 2010-14')\n",
    "fig.savefig('output1.png')"
   ]
  },
  {
   "cell_type": "markdown",
   "metadata": {
    "_cell_guid": "ddeec415-45d3-634c-a069-69917d9a270d",
    "_uuid": "7c3eba5e81bed9073c0a263bbbdc8b10c6e6e8bb"
   },
   "source": [
    "**Inferences from Graphs**\n",
    "\n",
    "Although the net change in unemployment rates over 2 year periods (2010-'12 & 2012-'14) has been plotted for all countries, I am mainly going to keep this discussion focussed on the long term change (2010-'14) and that to on countries which are either most successful or an utter failure in dealing with rising unemployment rates. These long term rates is basically a mirror to the willingness/unwillingness of the particular country's govt. to achieve sustainable growth in employment opportunities to counter the rising unemployment. \n",
    "\n",
    "> **Top Successful Countries**\n",
    "\n",
    "> The horizontal bar plot on the left hand side shows the top 15 countries which were most successful in dealing with unemployment in their countries over the period of 2010-14. As can be seen most of these countries are in europe with estonia being the most successful in dealing with unemployment having a negative growth rate of -16.29 % although it's unemployment rate still stood at 17 % which is still higher than most other countries. the top 5 countries are Estonia, Latvia, Lithuania, Moldova and Ghana. A special mention to the unemployment rate in USA which is able to achieve a reduction of about 5 % in it's unemployment rate from 2010-14.  \n",
    "\n",
    "\n",
    "> **Least Successful Countries**\n",
    "\n",
    "> Here again the list of least successful countries is dominated by european countries with countries like Greece, Spain and Italy reeling under high rates of unemployment among it's people. Most of these european countries have seen a double digit increase in their unemployment rates with situations reaching critical proportions in countries like greece with an unemployment rate of ~54 % in 2014 and spain suffering under a 57 % unemployment rate. All the countries in this list present a state of gloomy future for their youths with the respective authorities unable to rein in the unemployment monster. \n",
    "\n",
    "Note: A higher value in the top 15 successful and bottom 15 failures in no way suggest that there are aren't other countries where unemployment isn't as dangerous as in these countries. Take for example South africa which was already having an unemployment rate of 50.8 % in 2010 which jumped to 52.6 % in 2014, making their 5 year change a lowly ~3 %, as compared to 22 % increase for greece taking it to 53.9 %. What this bar plots indicate are the countries most capable/ill-equipped to deal with unemployment."
   ]
  },
  {
   "cell_type": "markdown",
   "metadata": {
    "_cell_guid": "664fca79-552c-cccf-3284-e3caece8b5a2",
    "_uuid": "15d6862799334416d59d46eb9df775250c74587d"
   },
   "source": [
    "# Visualization on Maps\n",
    "\n",
    "A picture is worth a thousand words (not sure it was exactly this) cannot be more apt when you can associate the names of places with their location on a map. A map containing all the data is much more visually appealing then rows and rows of endless data. A small effort is made here to present all the possible data on a world map. "
   ]
  },
  {
   "cell_type": "code",
   "execution_count": null,
   "metadata": {
    "_cell_guid": "f7d0d32b-4a4c-59ed-9dff-c7ad2622d4d5",
    "_execution_state": "idle",
    "_uuid": "3cf42ff3b64ebc6f684548504c34d9657850c4ea",
    "collapsed": true
   },
   "outputs": [],
   "source": [
    "# Plotting 2010 World Unemployment Data Geographically\n",
    "data = [ dict(\n",
    "        type = 'choropleth',\n",
    "        locations = df_country['Country Code'],\n",
    "        z = df_country['2010'],\n",
    "        text = df_country['Country Name'],\n",
    "        colorscale = 'Reds',\n",
    "        autocolorscale = False,\n",
    "        reversescale = False,\n",
    "        marker = dict(\n",
    "            line = dict (\n",
    "                color = 'rgb(180,180,180)',\n",
    "                width = 0.5\n",
    "            ) ),\n",
    "        colorbar = dict(\n",
    "            autotick = False,\n",
    "            title = 'Unemployment (%)'),\n",
    "      ) ]\n",
    "\n",
    "layout = dict(\n",
    "    title = 'Unemployment around the globe in 2010',\n",
    "    geo = dict(\n",
    "        showframe = True,\n",
    "        showcoastlines = True,\n",
    "        showocean = True,\n",
    "        #oceancolor = 'rgb(0,255,255)',\n",
    "        oceancolor = 'rgb(222,243,246)',\n",
    "        projection = dict(\n",
    "            type = 'Mercator'\n",
    "        )\n",
    "    )\n",
    ")\n",
    "\n",
    "fig = dict( data=data, layout=layout )\n",
    "py.iplot( fig, validate=False,filename='world2010')\n",
    "\n",
    "# Colorscale Sets the colorscale and only has an effect if `marker.color` is set to a numerical array. \n",
    "# Alternatively, `colorscale` may be a palette name string of the following list: Greys, YlGnBu, Greens, YlOrRd, \n",
    "# Bluered, RdBu, Reds, Blues, Picnic, Rainbow, Portland, Jet, Hot, Blackbody, Earth, Electric, Viridis"
   ]
  },
  {
   "cell_type": "code",
   "execution_count": null,
   "metadata": {
    "_cell_guid": "c1702559-004b-7a66-e5f8-b21fa027db51",
    "_execution_state": "idle",
    "_uuid": "07cc439abba1630c04d0c56927728724dbcc9a72",
    "collapsed": true
   },
   "outputs": [],
   "source": [
    "# Plotting 2014 World Unemployment Data Geographically\n",
    "data = [ dict(\n",
    "        type = 'choropleth',\n",
    "        locations = df_country['Country Code'],\n",
    "        z = df_country['2014'],\n",
    "        text = df_country['Country Name'],\n",
    "        colorscale = 'Reds',\n",
    "        autocolorscale = False,\n",
    "        reversescale = False,\n",
    "        marker = dict(\n",
    "            line = dict (\n",
    "                color = 'rgb(180,180,180)',\n",
    "                width = 0.5\n",
    "            ) ),\n",
    "        colorbar = dict(\n",
    "            autotick = False,\n",
    "            title = 'Unemployment (%)'),\n",
    "      ) ]\n",
    "\n",
    "layout = dict(\n",
    "    title = 'Unemployment around the globe in 2014',\n",
    "    geo = dict(\n",
    "        showframe = True,\n",
    "        showcoastlines = True,\n",
    "        showocean = True,\n",
    "        #oceancolor = 'rgb(0,255,255)',\n",
    "        oceancolor = 'rgb(222,243,246)',\n",
    "        projection = dict(\n",
    "            type = 'Mercator'\n",
    "        )\n",
    "    )\n",
    ")\n",
    "\n",
    "fig = dict( data=data, layout=layout)\n",
    "py.iplot( fig, validate=False,filename='world2014')\n",
    "# Colorscale Sets the colorscale and only has an effect if `marker.color` is set to a numerical array. \n",
    "# Alternatively, `colorscale` may be a palette name string of the following list: Greys, YlGnBu, Greens, YlOrRd, \n",
    "# Bluered, RdBu, Reds, Blues, Picnic, Rainbow, Portland, Jet, Hot, Blackbody, Earth, Electric, Viridis"
   ]
  },
  {
   "cell_type": "markdown",
   "metadata": {
    "_cell_guid": "76aaf494-9716-45f8-41bd-e1c4a8a2c050",
    "_uuid": "ad8927be7e7e944054c0422101106166f2b4f936"
   },
   "source": [
    "**YEAR 2010 & YEAR 2014**\n",
    "\n",
    "The unemployment rates around the globe has been shown on the maps above using a Red colour scale with dark hues of the color indicating a higher unemployment rate and the lighter hues indicating a lower rate. A quick glance at the maps show that african nations particularly in the southern & northern african region have been suffering from high rates of unemployment as compared to the rest of the countries in the continent in both 2010 and 2014. Asia with two of the world's biggest developing economies i.e. India and China seem to be doing something right and has kept the unemployment rate on the lower side. Russian Federation and United States have some good news as they have witnessed a reduction in the unemployment rates. A matter of concern as observed from the maps is the large increase in unemployment rates across europe particularly southern Europe i.e. the areas of Greece, Italy, Spain etc. All facts included the developing nations seems to be doing better than the developed nations in their quest for controlling unemployment among it's citizens."
   ]
  },
  {
   "cell_type": "code",
   "execution_count": null,
   "metadata": {
    "_cell_guid": "9ab27bf7-0a08-2ab5-21ab-250cb997a55c",
    "_execution_state": "idle",
    "_uuid": "e98324a848e59190fa81f0db7b5c7653b33b5c11",
    "collapsed": true
   },
   "outputs": [],
   "source": [
    "# Plotting 2014 World Unemployment Data Geographically\n",
    "data = [ dict(\n",
    "        type = 'choropleth',\n",
    "        locations = df_country['Country Code'],\n",
    "        z = df_country['2014-2010 change'],\n",
    "        text = df_country['Country Name'],\n",
    "        colorscale = 'RdBu',\n",
    "        autocolorscale = False,\n",
    "        reversescale = False,\n",
    "        marker = dict(\n",
    "            line = dict (\n",
    "                color = 'rgb(180,180,180)',\n",
    "                width = 0.5\n",
    "            ) ),\n",
    "        colorbar = dict(\n",
    "            autotick = False,\n",
    "            title = 'Unemployment (%)'),\n",
    "      ) ]\n",
    "\n",
    "layout = dict(\n",
    "    title = 'Net Change in Unemployment around the globe over the 5 year period (2010-14)',\n",
    "    geo = dict(\n",
    "        showframe = True,\n",
    "        showcoastlines = True,\n",
    "        showocean = True,\n",
    "        #oceancolor = 'rgb(0,255,255)',\n",
    "        oceancolor = 'rgb(222,243,246)',\n",
    "        projection = dict(\n",
    "            type = 'Mercator'\n",
    "         )\n",
    "    )    \n",
    ")\n",
    "\n",
    "fig = dict( data=data, layout=layout )\n",
    "py.iplot( fig, validate=False,filename='WorldChange')\n",
    "\n",
    "# Colorscale Sets the colorscale and only has an effect if `marker.color` is set to a numerical array. \n",
    "# Alternatively, `colorscale` may be a palette name string of the following list: Greys, YlGnBu, Greens, YlOrRd, \n",
    "# Bluered, RdBu, Reds, Blues, Picnic, Rainbow, Portland, Jet, Hot, Blackbody, Earth, Electric, Viridis"
   ]
  },
  {
   "cell_type": "markdown",
   "metadata": {
    "_cell_guid": "d3de357a-c379-9183-b1e6-29d18e5116ab",
    "_uuid": "a106e56f2a17bd0a4238ee318297ee89b07f531c"
   },
   "source": [
    "**Change in Net Employment Rates over the 5 year period**\n",
    "\n",
    "Change in Net unemployment over the 5 year period from 2010-'14 suggest either a small positive increment or a net decrease in unemployment rates in majority of the countries surveyed. Apart from some North African states and Southern European states which seems to have seen a drastic increase in unemployment levels the rest of the world seems to be doing just fine. The South Asian and Oceania region seems to be doing just great with countries like India, China and Australia registering a net increase of just 0.19 % , 1.5 % and 1.7 % respectively over the 5 year period. Even countries like Russia and USA seems to be on the track of recovery with unemployment rates dropping by 3.9 % and ~5% respectively in these countries. However, this net change survey has to be considered keeping in mind the entire perspective as some countries like RSA though seeing only a change of +1.8% over the 5 year period is still one of the countries suffering from extremely high unemployment rates (>50%). All in all the combination of above 3 maps paint a somewhat mixed picture displaying a rampant rise in unemployment rates in some countries while the majority of countries are somewhat successful in mitigating/managing the menace of unemployment."
   ]
  },
  {
   "cell_type": "markdown",
   "metadata": {
    "_cell_guid": "9268acf9-f32c-5647-6dbe-ef31ab58475c",
    "_uuid": "2d1d046d58fe13813440a30b9a56e82632a5a59e"
   },
   "source": [
    "# Non Country Data Exploration/Supranational Group/Income Group Exploration"
   ]
  },
  {
   "cell_type": "code",
   "execution_count": null,
   "metadata": {
    "_cell_guid": "8cc337e1-0755-1c67-02c5-04464b6ecb37",
    "_execution_state": "idle",
    "_uuid": "b724ebdfd44dd7fd0201e8745e6475bf6ec3dec8",
    "collapsed": true
   },
   "outputs": [],
   "source": [
    "supranational_groups=['Arab World','Caribbean small states','East Asia & Pacific','European Union','Latin America & Caribbean',\n",
    "                      'Middle East & North Africa','North America','OECD members','Other small states','South Asia',\n",
    "                      'Sub-Saharan Africa','World']"
   ]
  },
  {
   "cell_type": "code",
   "execution_count": null,
   "metadata": {
    "_cell_guid": "5d3704c6-3534-62ab-cbcb-e1051ff04821",
    "_execution_state": "idle",
    "_uuid": "0e291efbb7dc8afc14bf65d82eaaedffe1f31c1d",
    "collapsed": true
   },
   "outputs": [],
   "source": [
    "df_supranational=df_non_country[df_non_country['Country Name'].isin(supranational_groups)]"
   ]
  },
  {
   "cell_type": "code",
   "execution_count": null,
   "metadata": {
    "_cell_guid": "2c669458-1b6c-bfd9-4c57-8881a00698a8",
    "_execution_state": "idle",
    "_uuid": "9044789134f83cbf074c707d509998c51ebed88a",
    "collapsed": true
   },
   "outputs": [],
   "source": [
    "df_supranational=df_supranational[['Country Name','2010','2011','2012','2013','2014']]\n",
    "df_supranational.head()"
   ]
  },
  {
   "cell_type": "code",
   "execution_count": null,
   "metadata": {
    "_cell_guid": "b8b6f082-623a-0952-71bd-47bf8a014abd",
    "_execution_state": "idle",
    "_uuid": "83a1b2bcaa3b45e3aa3deddda2e9d0ef911771c8",
    "collapsed": true
   },
   "outputs": [],
   "source": [
    "df_supranational=df_supranational.set_index('Country Name')"
   ]
  },
  {
   "cell_type": "code",
   "execution_count": null,
   "metadata": {
    "_cell_guid": "9a3ba424-7fab-7f81-a9ef-a78d083662a5",
    "_execution_state": "idle",
    "_uuid": "2c07701c2968bb639e9c904efa5fd40577307057",
    "collapsed": true
   },
   "outputs": [],
   "source": [
    "df_supranational=(df_supranational.T).copy()\n",
    "df_supranational.head()"
   ]
  },
  {
   "cell_type": "code",
   "execution_count": null,
   "metadata": {
    "_cell_guid": "370ac542-16f2-b524-ead0-b81a3961537c",
    "_execution_state": "idle",
    "_uuid": "0beaa4a17670be3be1b9461295a5b720d8e11598",
    "collapsed": true
   },
   "outputs": [],
   "source": [
    "income_groups=['High income','Heavily indebted poor countries (HIPC)','Least developed countries: UN classification', \n",
    "                 'Low income','Lower middle income', 'Low & middle income','Middle income','Upper middle income','World']"
   ]
  },
  {
   "cell_type": "code",
   "execution_count": null,
   "metadata": {
    "_cell_guid": "0a7575d4-10a4-a40c-4509-84cc978c25be",
    "_execution_state": "idle",
    "_uuid": "72053112e18f05d3f60e14bcb69e6f2254184dde",
    "collapsed": true
   },
   "outputs": [],
   "source": [
    "df_income=df_non_country[df_non_country['Country Name'].isin(income_groups)]"
   ]
  },
  {
   "cell_type": "code",
   "execution_count": null,
   "metadata": {
    "_cell_guid": "ff9c8b49-09ef-6a26-3165-2132e3b3c0e6",
    "_execution_state": "idle",
    "_uuid": "34d39ead37f1429b167ade353176e0211394aeba",
    "collapsed": true
   },
   "outputs": [],
   "source": [
    "df_income=df_income[['Country Name','2010','2011','2012','2013','2014']]\n"
   ]
  },
  {
   "cell_type": "code",
   "execution_count": null,
   "metadata": {
    "_cell_guid": "bdc9a928-2dc1-b920-59cf-babc22fe6aca",
    "_execution_state": "idle",
    "_uuid": "bd605360038886472bde3def852d60a0ef5005a4",
    "collapsed": true
   },
   "outputs": [],
   "source": [
    "df_income=df_income.set_index('Country Name')"
   ]
  },
  {
   "cell_type": "code",
   "execution_count": null,
   "metadata": {
    "_cell_guid": "2fdaf6e2-2158-0f76-84c3-d35d570bfccf",
    "_execution_state": "idle",
    "_uuid": "2eea82c4778cb6819d6a36ecec76edbcc4b447ea",
    "collapsed": true
   },
   "outputs": [],
   "source": [
    "df_income=(df_income.T).copy()\n",
    "df_income"
   ]
  },
  {
   "cell_type": "code",
   "execution_count": null,
   "metadata": {
    "_cell_guid": "6532c3f4-36f5-8813-5158-5c8348741fb6",
    "_execution_state": "idle",
    "_uuid": "060328da7f9867e47e9791e5d257a051ed2b4e94",
    "collapsed": true
   },
   "outputs": [],
   "source": [
    "# Supranational Group Unemployment Comparison\n",
    "\n",
    "supranational_groups=['Arab World','Caribbean small states','East Asia & Pacific','European Union','Latin America & Caribbean',\n",
    "                      'Middle East & North Africa','North America','OECD members','Other small states','South Asia',\n",
    "                      'Sub-Saharan Africa','World']\n",
    "\n",
    "years=df_supranational.index\n",
    "\n",
    "traces=[]\n",
    "\n",
    "for i in range(len(supranational_groups)):\n",
    "    traces.append(go.Scatter(\n",
    "                  x=years,\n",
    "                  y=df_supranational.iloc[:,i],\n",
    "                  name=supranational_groups[i],\n",
    "                  mode='lines+markers',\n",
    "                  line = dict(\n",
    "                              width = 3,\n",
    "                              dash = 'dashdot')\n",
    "        ))\n",
    "\n",
    "layout = go.Layout(\n",
    "    title='Unemployment Over the Years in different Regions of the World',\n",
    "    yaxis=dict(title='Unemployment Rate (%)',\n",
    "               zeroline=True,\n",
    "               showline=True,\n",
    "               showgrid=False,\n",
    "               showticklabels=True,\n",
    "               linecolor='rgb(0,0,0)',\n",
    "               linewidth=2,\n",
    "               tickmode='auto',\n",
    "               tickwidth=2,\n",
    "               ticklen=5,\n",
    "               nticks=8,\n",
    "               tickfont=dict(\n",
    "                            family='Arial',\n",
    "                            size=12,\n",
    "                            color='rgb(82, 82, 82)',\n",
    "                            ),\n",
    "               ticks='outside'),\n",
    "    \n",
    "    xaxis=dict(title='Years',\n",
    "               showline=True,\n",
    "               showgrid=False,\n",
    "               showticklabels=True,\n",
    "               linecolor='rgb(0,0,0)',\n",
    "               linewidth=2,\n",
    "               autotick=False,\n",
    "               tickwidth=2,\n",
    "               ticklen=5,\n",
    "               tickfont=dict(\n",
    "                            family='Arial',\n",
    "                            size=12,\n",
    "                            color='rgb(82, 82, 82)',\n",
    "                            ),\n",
    "               ticks='outside',\n",
    "               tickmode='array',\n",
    "               tickvals=['2009','2010', '2011', '2012', '2013', '2014','2015'])\n",
    ")\n",
    "\n",
    "fig = go.Figure(data=traces, layout=layout)\n",
    "py.iplot(fig)"
   ]
  },
  {
   "cell_type": "markdown",
   "metadata": {
    "_cell_guid": "32a3da2c-3d64-8218-8845-13a1b7d5eeb6",
    "_uuid": "913b2117b0c12c5de65a3bda463f32cb8135a3ec"
   },
   "source": [
    "**Trends from Supranational/Regional Groups**\n",
    "\n",
    "A simple scatter plot displaying the unemployment rates in bigger regional groups is shown above with a view to compare them with each other and also the world unemployment rate. Thw World Unemployment rate is taken as the baseline for comparison and it can be seen from the graphs above that Asian (East asia & Pacific and South Asia & Latin America) has lower unemployment rate than the average world unemployment rates. These regions are mostly composed of developing economies thereby cementing the fact that these nations are what is driving the world forward then their developed counterparts after the economic slowdown which seems to be excessively harsh on European Union and Middle East Countries (Oil price slump may have also contributed to rising unemployment in Middle East). North America has seen a steady decrease in unemployment rates since 2010 finally achieving a value lower than the world world unemployment rate in 2014. Over the years, the overall increase in unemployment around the world is almost negligible from 13.78 % (2010) to 13.98 % (2014)."
   ]
  },
  {
   "cell_type": "code",
   "execution_count": null,
   "metadata": {
    "_cell_guid": "13586d1f-78ba-cf91-d6ee-53b5c9225d44",
    "_execution_state": "idle",
    "_uuid": "4150d0f156c96753cc47d65a72dead873bce0019",
    "collapsed": true
   },
   "outputs": [],
   "source": [
    "# Income Group Unemployment Comparison\n",
    "\n",
    "income_groups=['High income','Heavily indebted poor countries (HIPC)','Least developed countries: UN classification', \n",
    "                 'Low income','Lower middle income', 'Low & middle income','Middle income','Upper middle income','World']\n",
    "\n",
    "years_income=df_income.index\n",
    "\n",
    "traces=[]\n",
    "\n",
    "for i in range(len(income_groups)):\n",
    "    traces.append(go.Scatter(\n",
    "                  x=years_income,\n",
    "                  y=df_income.iloc[:,i],\n",
    "                  name=income_groups[i],\n",
    "                  mode='lines+markers',\n",
    "                  line = dict(\n",
    "                              width = 3,\n",
    "                              dash = 'dashdot')\n",
    "        ))\n",
    "\n",
    "layout = go.Layout(\n",
    "    title='Unemployment Over the Years among Various Income Groups',\n",
    "    yaxis=dict(title='Unemployment Rate (%)',\n",
    "               zeroline=True,\n",
    "               showline=True,\n",
    "               showgrid=False,\n",
    "               showticklabels=True,\n",
    "               linecolor='rgb(0,0,0)',\n",
    "               linewidth=2,\n",
    "               tickmode='auto',\n",
    "               tickwidth=2,\n",
    "               ticklen=5,\n",
    "               nticks=8,\n",
    "               tickfont=dict(\n",
    "                            family='Arial',\n",
    "                            size=12,\n",
    "                            color='rgb(82, 82, 82)',\n",
    "                            ),\n",
    "               ticks='outside'),\n",
    "    \n",
    "    xaxis=dict(title='Years',\n",
    "               showline=True,\n",
    "               showgrid=False,\n",
    "               showticklabels=True,\n",
    "               linecolor='rgb(0,0,0)',\n",
    "               linewidth=2,\n",
    "               autotick=False,\n",
    "               tickwidth=2,\n",
    "               ticklen=5,\n",
    "               tickfont=dict(\n",
    "                            family='Arial',\n",
    "                            size=12,\n",
    "                            color='rgb(82, 82, 82)',\n",
    "                            ),\n",
    "               ticks='outside',\n",
    "               tickmode='array',\n",
    "               tickvals=['2009','2010', '2011', '2012', '2013', '2014','2015'])\n",
    ")\n",
    "\n",
    "fig = go.Figure(data=traces, layout=layout)\n",
    "py.iplot(fig)"
   ]
  },
  {
   "cell_type": "markdown",
   "metadata": {
    "_cell_guid": "39bff523-6f5f-edfe-92e4-d741ed052d47",
    "_uuid": "25a6bed9d80ab622f890d89a6d5fe79bf042b1da"
   },
   "source": [
    "**Trends from Income based Country Groups**\n",
    "\n",
    "As done in case of regional groups, a second segregation is also done on the basis  of income levels of country and a similar comparison is carried out between them and the world unemployment rates. As can be clearly seen from the scatter plot, it is the high income countries which are suffering from a higher unemployment rates when compared to their lesser developed/developing counterparts who are able to provide more opportunities to their workforce and keep a check on rising unemployment rates. This supports our earlier seen trend of increasing unemployment in middle east and european countries which are considered developed as compared to the low income/medium income economies of Asia such as India, China etc where unemployment rates were lower than the world unemployment rates.  \n"
   ]
  },
  {
   "cell_type": "markdown",
   "metadata": {
    "_cell_guid": "d171b7ea-8152-b903-8e5b-764febe6dde5",
    "_uuid": "77d287d0a17e2415924ef182d7a014572ea51225"
   },
   "source": [
    "# Conclusion"
   ]
  },
  {
   "cell_type": "markdown",
   "metadata": {
    "_cell_guid": "db759027-fa42-147c-43ed-218fd8e8efe3",
    "_uuid": "0f62b938a16384849e0da7fd60005aa1a37473de"
   },
   "source": [
    "The analysis of the world unemployment data presents a stark contrast between european countries and lower/medium income developing countries. The data suggests a world maintaining an almost constant unemployment rate over the years, with europe presenting a complex situation in itself. It is home to countries both most successful and least successful in dealing with unemployment. Whereas the situation in Greece, Spain has deteriorated, the success in handling unemployment in countries such as Estonia, Lithuania and Latvia is a silver lining in these times for europe. More or less the situation in Asian giants China and India has remained same over the years. The Americans and Russians have seemed to 'pulled up their socks' and now working towards reducing unemployment in their countries with some degree of success.   \n",
    "\n",
    "All in all this is just an attempt to present a very grave problem faced by our youth and general population and the data doesn't seem to give any hope that things will improve in short term from here on, as the world unemployment rate is holding almost steady (increase of ~ +0.2 %) and the deteriorating condition in several European Countries. There is greater need to address the underlying problem of unemployment (underskilled workforce etc.) and an honest attempt should be made by concerned authorities before the situation spirals further out of hand."
   ]
  }
 ],
 "metadata": {
  "_change_revision": 0,
  "_is_fork": false,
  "kernelspec": {
   "display_name": "Python 3",
   "language": "python",
   "name": "python3"
  },
  "language_info": {
   "codemirror_mode": {
    "name": "ipython",
    "version": 3
   },
   "file_extension": ".py",
   "mimetype": "text/x-python",
   "name": "python",
   "nbconvert_exporter": "python",
   "pygments_lexer": "ipython3",
   "version": "3.6.4"
  }
 },
 "nbformat": 4,
 "nbformat_minor": 1
}
